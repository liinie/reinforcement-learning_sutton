{
 "cells": [
  {
   "cell_type": "code",
   "execution_count": 4,
   "metadata": {
    "collapsed": true
   },
   "outputs": [],
   "source": [
    "import numpy as np\n",
    "import matplotlib.pyplot as plt\n",
    "import pandas as pd\n",
    "from tqdm import tnrange, tqdm_notebook"
   ]
  },
  {
   "cell_type": "code",
   "execution_count": 1,
   "metadata": {
    "collapsed": true
   },
   "outputs": [],
   "source": [
    "n_run = 2000\n",
    "n_step = 1000 \n",
    "action_space = 10"
   ]
  },
  {
   "cell_type": "code",
   "execution_count": 2,
   "metadata": {
    "collapsed": true
   },
   "outputs": [],
   "source": [
    "def average_reward_bandit(epsilon, n_run, n_step, zero_initial=True):\n",
    "    total_Q_plot = np.zeros((n_run, n_step))\n",
    "    for run in tnrange(n_run, desc='total runs'):\n",
    "        if zero_initial:\n",
    "            Q = np.zeros((action_space))\n",
    "        else:\n",
    "            Q = np.full((action_space), 5)\n",
    "        N = np.zeros((action_space))\n",
    "\n",
    "        mu, sigma = 0, 1\n",
    "        q_optimal = np.random.normal(mu, sigma, 10)\n",
    "\n",
    "        Q_plot = []\n",
    "        Reward_sum = 0\n",
    "        for i in range(n_step):\n",
    "            p = np.random.uniform(0, 1)\n",
    "            max_val = np.max(Q)\n",
    "            max_pos = [i for i, value in enumerate(Q) if value == max_val]\n",
    "            if p > (1 - epsilon):\n",
    "                action = np.random.choice(max_pos)\n",
    "            else:\n",
    "                action = np.random.randint(len(Q))\n",
    "\n",
    "            reward = np.random.normal(q_optimal[action], 1, 1)[0]\n",
    "            Reward_sum += reward\n",
    "            N[action] += 1\n",
    "            Q[action] += 1/N[action]*(reward - Q[action])\n",
    "            Q_plot.append(Reward_sum/(i+1))\n",
    "        total_Q_plot[run, :] = Q_plot \n",
    "    average_reward = np.mean(total_Q_plot, axis=0)   \n",
    "    return average_reward"
   ]
  },
  {
   "cell_type": "code",
   "execution_count": 119,
   "metadata": {},
   "outputs": [
    {
     "data": {
      "application/vnd.jupyter.widget-view+json": {
       "model_id": "84f964111f3c4a079292760635e72c03"
      }
     },
     "metadata": {},
     "output_type": "display_data"
    },
    {
     "name": "stdout",
     "output_type": "stream",
     "text": [
      "\n"
     ]
    }
   ],
   "source": [
    "average_reward_greedy = average_reward_bandit(epsilon=0, n_run=n_run, n_step=n_step)"
   ]
  },
  {
   "cell_type": "code",
   "execution_count": 120,
   "metadata": {},
   "outputs": [
    {
     "data": {
      "application/vnd.jupyter.widget-view+json": {
       "model_id": "b7e116fd86324692bdd5a03e7f4e15df"
      }
     },
     "metadata": {},
     "output_type": "display_data"
    },
    {
     "name": "stdout",
     "output_type": "stream",
     "text": [
      "\n"
     ]
    }
   ],
   "source": [
    "average_reward_e_01 = average_reward_bandit(epsilon=0.1, n_run=n_run, n_step=n_step)"
   ]
  },
  {
   "cell_type": "code",
   "execution_count": 121,
   "metadata": {},
   "outputs": [
    {
     "data": {
      "application/vnd.jupyter.widget-view+json": {
       "model_id": "e67d146f3b62424c8b3588a686d20978"
      }
     },
     "metadata": {},
     "output_type": "display_data"
    },
    {
     "name": "stdout",
     "output_type": "stream",
     "text": [
      "\n"
     ]
    }
   ],
   "source": [
    "average_reward_e_001 = average_reward_bandit(epsilon=0.01, n_run=n_run, n_step=n_step)"
   ]
  },
  {
   "cell_type": "code",
   "execution_count": 125,
   "metadata": {},
   "outputs": [
    {
     "data": {
      "image/png": "[encoded data removed]",
      "text/plain": [
       "<matplotlib.figure.Figure at 0x157d8485da0>"
      ]
     },
     "metadata": {},
     "output_type": "display_data"
    }
   ],
   "source": [
    "plt.plot(average_reward_greedy)\n",
    "plt.plot(average_reward_e_01)\n",
    "plt.plot(average_reward_e_001)\n",
    "plt.legend(['greedy', 'epsilon=0.1', 'epsilon=0.01'], loc='upper right')\n",
    "plt.show()"
   ]
  },
  {
   "cell_type": "code",
   "execution_count": 5,
   "metadata": {},
   "outputs": [
    {
     "data": {
      "application/vnd.jupyter.widget-view+json": {
       "model_id": "bbaf362a734447e7b65c8f637d5dda42"
      }
     },
     "metadata": {},
     "output_type": "display_data"
    },
    {
     "name": "stdout",
     "output_type": "stream",
     "text": [
      "\n"
     ]
    }
   ],
   "source": [
    "optimistic_greedy = average_reward_bandit(epsilon=0, n_run=2000, n_step=1000, zero_initial=False)"
   ]
  },
  {
   "cell_type": "code",
   "execution_count": 6,
   "metadata": {},
   "outputs": [
    {
     "data": {
      "application/vnd.jupyter.widget-view+json": {
       "model_id": "46ffc1eae230440694091d6acf8f378a"
      }
     },
     "metadata": {},
     "output_type": "display_data"
    },
    {
     "name": "stdout",
     "output_type": "stream",
     "text": [
      "\n"
     ]
    }
   ],
   "source": [
    "realistic_e_greedy = average_reward_bandit(epsilon=0.1, n_run=2000, n_step=1000, zero_initial=True)"
   ]
  },
  {
   "cell_type": "code",
   "execution_count": 9,
   "metadata": {},
   "outputs": [
    {
     "data": {
      "image/png": "[encoded data removed]",
      "text/plain": [
       "<matplotlib.figure.Figure at 0x228140112b0>"
      ]
     },
     "metadata": {},
     "output_type": "display_data"
    }
   ],
   "source": [
    "plt.plot(optimistic_greedy)\n",
    "plt.plot(realistic_e_greedy)\n",
    "plt.legend(['optimistic', 'realisitc'], loc='upper right')\n",
    "plt.show()"
   ]
  },
  {
   "cell_type": "code",
   "execution_count": null,
   "metadata": {
    "collapsed": true
   },
   "outputs": [],
   "source": []
  }
 ],
 "metadata": {
  "kernelspec": {
   "display_name": "Python 3",
   "language": "python",
   "name": "python3"
  },
  "language_info": {
   "codemirror_mode": {
    "name": "ipython",
    "version": 3
   },
   "file_extension": ".py",
   "mimetype": "text/x-python",
   "name": "python",
   "nbconvert_exporter": "python",
   "pygments_lexer": "ipython3",
   "version": "3.6.1"
  }
 },
 "nbformat": 4,
 "nbformat_minor": 2
}
